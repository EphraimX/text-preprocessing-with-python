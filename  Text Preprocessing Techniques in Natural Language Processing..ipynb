{
 "cells": [
  {
   "cell_type": "markdown",
   "id": "7b560afa",
   "metadata": {},
   "source": [
    " **Code Snippets for Text Preprocessing Techniques in Natural Language Processing**"
   ]
  },
  {
   "cell_type": "code",
   "execution_count": 1,
   "id": "871166d6",
   "metadata": {},
   "outputs": [
    {
     "data": {
      "text/plain": [
       "'sometimes it pays to stay in bed on monday, rather than spending the rest of the week debugging monday’s code. – dan salomon'"
      ]
     },
     "execution_count": 1,
     "metadata": {},
     "output_type": "execute_result"
    }
   ],
   "source": [
    "def convert_to_lower_case(text):\n",
    "    return text.lower()\n",
    "\n",
    "sample_text = \"Sometimes it pays to stay in bed on Monday, rather than spending the rest of the week debugging Monday’s code. – Dan Salomon\"\n",
    "\n",
    "convert_to_lower_case(text=sample_text)"
   ]
  },
  {
   "cell_type": "code",
   "execution_count": 2,
   "id": "19774719",
   "metadata": {},
   "outputs": [
    {
     "data": {
      "text/plain": [
       "'Talk is cheap. Show me the code. ― Linus Torvalds'"
      ]
     },
     "execution_count": 2,
     "metadata": {},
     "output_type": "execute_result"
    }
   ],
   "source": [
    "def remove_whitespace(text):\n",
    "    return \" \".join(text.split())\n",
    "\n",
    "sample_text = \"Talk is cheap. Show me the code.     ―     Linus  Torvalds\"\n",
    "remove_whitespace(text=sample_text)"
   ]
  },
  {
   "cell_type": "code",
   "execution_count": 3,
   "id": "393ab097",
   "metadata": {},
   "outputs": [
    {
     "data": {
      "text/plain": [
       "'Programming is about managing complexity the complexity of the problem laid upon the complexity of the machine Because of this complexity most of our programming projects fail'"
      ]
     },
     "execution_count": 3,
     "metadata": {},
     "output_type": "execute_result"
    }
   ],
   "source": [
    "import re\n",
    "def remove_punctuations(text):\n",
    "    return re.sub('[^\\w\\s]', '', text)\n",
    "\n",
    "sample_text = 'Programming is about managing complexity: the complexity of the problem, laid upon the complexity of the machine. Because of this complexity, most of our programming projects fail.'\n",
    "remove_punctuations(sample_text)"
   ]
  },
  {
   "cell_type": "code",
   "execution_count": 4,
   "id": "301a409c",
   "metadata": {},
   "outputs": [
    {
     "name": "stdout",
     "output_type": "stream",
     "text": [
      "Requirement already satisfied: contractions in c:\\users\\pc\\anaconda3\\lib\\site-packages (0.1.72)\n",
      "Requirement already satisfied: textsearch>=0.0.21 in c:\\users\\pc\\anaconda3\\lib\\site-packages (from contractions) (0.0.21)\n",
      "Requirement already satisfied: pyahocorasick in c:\\users\\pc\\anaconda3\\lib\\site-packages (from textsearch>=0.0.21->contractions) (1.4.4)\n",
      "Requirement already satisfied: anyascii in c:\\users\\pc\\anaconda3\\lib\\site-packages (from textsearch>=0.0.21->contractions) (0.3.1)\n"
     ]
    }
   ],
   "source": [
    "!pip install contractions"
   ]
  },
  {
   "cell_type": "code",
   "execution_count": 5,
   "id": "1ccdc72b",
   "metadata": {},
   "outputs": [
    {
     "data": {
      "text/plain": [
       "'I am not a great programmer; I am just a good programmer with great habits. - Kent Beck'"
      ]
     },
     "execution_count": 5,
     "metadata": {},
     "output_type": "execute_result"
    }
   ],
   "source": [
    "import contractions\n",
    "\n",
    "def expand_contractions(text):\n",
    "    return contractions.fix(text)\n",
    "\n",
    "sample_text = \"I'm not a great programmer; I'm just a good programmer with great habits. - Kent Beck\"\n",
    "expand_contractions(sample_text)"
   ]
  },
  {
   "cell_type": "code",
   "execution_count": 6,
   "id": "aad84593",
   "metadata": {},
   "outputs": [
    {
     "name": "stdout",
     "output_type": "stream",
     "text": [
      "Requirement already satisfied: TextBlob in c:\\users\\pc\\anaconda3\\lib\\site-packages (0.17.1)\n",
      "Requirement already satisfied: nltk>=3.1 in c:\\users\\pc\\anaconda3\\lib\\site-packages (from TextBlob) (3.6.5)\n",
      "Requirement already satisfied: click in c:\\users\\pc\\anaconda3\\lib\\site-packages (from nltk>=3.1->TextBlob) (8.0.3)\n",
      "Requirement already satisfied: joblib in c:\\users\\pc\\anaconda3\\lib\\site-packages (from nltk>=3.1->TextBlob) (1.1.0)\n",
      "Requirement already satisfied: regex>=2021.8.3 in c:\\users\\pc\\anaconda3\\lib\\site-packages (from nltk>=3.1->TextBlob) (2021.8.3)\n",
      "Requirement already satisfied: tqdm in c:\\users\\pc\\anaconda3\\lib\\site-packages (from nltk>=3.1->TextBlob) (4.62.3)\n",
      "Requirement already satisfied: colorama in c:\\users\\pc\\anaconda3\\lib\\site-packages (from click->nltk>=3.1->TextBlob) (0.4.4)\n"
     ]
    }
   ],
   "source": [
    "!pip install TextBlob"
   ]
  },
  {
   "cell_type": "code",
   "execution_count": 7,
   "id": "c1ba572b",
   "metadata": {},
   "outputs": [
    {
     "name": "stdout",
     "output_type": "stream",
     "text": [
      "Finished.\n"
     ]
    },
    {
     "name": "stderr",
     "output_type": "stream",
     "text": [
      "[nltk_data] Downloading package brown to\n",
      "[nltk_data]     C:\\Users\\PC\\AppData\\Roaming\\nltk_data...\n",
      "[nltk_data]   Package brown is already up-to-date!\n",
      "[nltk_data] Downloading package punkt to\n",
      "[nltk_data]     C:\\Users\\PC\\AppData\\Roaming\\nltk_data...\n",
      "[nltk_data]   Package punkt is already up-to-date!\n",
      "[nltk_data] Downloading package wordnet to\n",
      "[nltk_data]     C:\\Users\\PC\\AppData\\Roaming\\nltk_data...\n",
      "[nltk_data]   Package wordnet is already up-to-date!\n",
      "[nltk_data] Downloading package averaged_perceptron_tagger to\n",
      "[nltk_data]     C:\\Users\\PC\\AppData\\Roaming\\nltk_data...\n",
      "[nltk_data]   Package averaged_perceptron_tagger is already up-to-\n",
      "[nltk_data]       date!\n",
      "[nltk_data] Downloading package conll2000 to\n",
      "[nltk_data]     C:\\Users\\PC\\AppData\\Roaming\\nltk_data...\n",
      "[nltk_data]   Package conll2000 is already up-to-date!\n",
      "[nltk_data] Downloading package movie_reviews to\n",
      "[nltk_data]     C:\\Users\\PC\\AppData\\Roaming\\nltk_data...\n",
      "[nltk_data]   Package movie_reviews is already up-to-date!\n"
     ]
    }
   ],
   "source": [
    "!python -m textblob.download_corpora"
   ]
  },
  {
   "cell_type": "code",
   "execution_count": 8,
   "id": "57c23fc8",
   "metadata": {},
   "outputs": [
    {
     "data": {
      "text/plain": [
       "TextBlob(\"Truth can only be found in one place: the code.\")"
      ]
     },
     "execution_count": 8,
     "metadata": {},
     "output_type": "execute_result"
    }
   ],
   "source": [
    "from textblob import TextBlob\n",
    "\n",
    "def correct_spelling(text):\n",
    "    text = TextBlob(text)\n",
    "    correct_text = text.correct()\n",
    "    return correct_text\n",
    "\n",
    "sample_text = \"Truht can only be fonud in one place: the cdoe.\"\n",
    "correct_spelling(sample_text)"
   ]
  },
  {
   "cell_type": "code",
   "execution_count": 9,
   "id": "f3fcc1f3",
   "metadata": {},
   "outputs": [
    {
     "name": "stdout",
     "output_type": "stream",
     "text": [
      "Requirement already satisfied: nltk in c:\\users\\pc\\anaconda3\\lib\\site-packages (3.6.5)\n",
      "Requirement already satisfied: click in c:\\users\\pc\\anaconda3\\lib\\site-packages (from nltk) (8.0.3)\n",
      "Requirement already satisfied: joblib in c:\\users\\pc\\anaconda3\\lib\\site-packages (from nltk) (1.1.0)\n",
      "Requirement already satisfied: regex>=2021.8.3 in c:\\users\\pc\\anaconda3\\lib\\site-packages (from nltk) (2021.8.3)\n",
      "Requirement already satisfied: tqdm in c:\\users\\pc\\anaconda3\\lib\\site-packages (from nltk) (4.62.3)\n",
      "Requirement already satisfied: colorama in c:\\users\\pc\\anaconda3\\lib\\site-packages (from click->nltk) (0.4.4)\n"
     ]
    }
   ],
   "source": [
    "!pip install nltk"
   ]
  },
  {
   "cell_type": "code",
   "execution_count": 10,
   "id": "7c222d36",
   "metadata": {},
   "outputs": [
    {
     "data": {
      "text/plain": [
       "['Object-oriented',\n",
       " 'programming',\n",
       " 'offers',\n",
       " 'a',\n",
       " 'sustainable',\n",
       " 'way',\n",
       " 'to',\n",
       " 'write',\n",
       " 'spaghetti',\n",
       " 'code',\n",
       " '.',\n",
       " 'It',\n",
       " 'lets',\n",
       " 'you',\n",
       " 'accrete',\n",
       " 'programs',\n",
       " 'as',\n",
       " 'a',\n",
       " 'series',\n",
       " 'of',\n",
       " 'patches',\n",
       " '.',\n",
       " '―',\n",
       " 'Paul',\n",
       " 'Graham']"
      ]
     },
     "execution_count": 10,
     "metadata": {},
     "output_type": "execute_result"
    }
   ],
   "source": [
    "from nltk import word_tokenize\n",
    "\n",
    "def tokenzie_word(text):\n",
    "    return word_tokenize(text)\n",
    "\n",
    "sample_text = \"Object-oriented programming offers a sustainable way to write spaghetti code. It lets you accrete programs as a series of patches. ― Paul Graham\"\n",
    "tokenzie_word(sample_text)"
   ]
  },
  {
   "cell_type": "code",
   "execution_count": 11,
   "id": "a07b87a3",
   "metadata": {},
   "outputs": [
    {
     "data": {
      "text/plain": [
       "['Object-oriented programming offers a sustainable way to write spaghetti code.',\n",
       " 'It lets you accrete programs as a series of patches.',\n",
       " '― Paul Graham']"
      ]
     },
     "execution_count": 11,
     "metadata": {},
     "output_type": "execute_result"
    }
   ],
   "source": [
    "from nltk import sent_tokenize\n",
    "\n",
    "def tokenzie_sent(text):\n",
    "    return sent_tokenize(text)\n",
    "\n",
    "sample_text = \"Object-oriented programming offers a sustainable way to write spaghetti code. It lets you accrete programs as a series of patches. ― Paul Graham\"\n",
    "tokenzie_sent(sample_text)"
   ]
  },
  {
   "cell_type": "code",
   "execution_count": 12,
   "id": "20209240",
   "metadata": {},
   "outputs": [
    {
     "name": "stderr",
     "output_type": "stream",
     "text": [
      "[nltk_data] Downloading package stopwords to\n",
      "[nltk_data]     C:\\Users\\PC\\AppData\\Roaming\\nltk_data...\n",
      "[nltk_data]   Package stopwords is already up-to-date!\n"
     ]
    },
    {
     "data": {
      "text/plain": [
       "True"
      ]
     },
     "execution_count": 12,
     "metadata": {},
     "output_type": "execute_result"
    }
   ],
   "source": [
    "import nltk\n",
    "nltk.download('stopwords')"
   ]
  },
  {
   "cell_type": "code",
   "execution_count": 13,
   "id": "c0d48aba",
   "metadata": {},
   "outputs": [
    {
     "data": {
      "text/plain": [
       "'Software cathedrals much — first build , pray .'"
      ]
     },
     "execution_count": 13,
     "metadata": {},
     "output_type": "execute_result"
    }
   ],
   "source": [
    "from nltk.corpus import stopwords\n",
    "from nltk import word_tokenize\n",
    "stopwords_list = stopwords.words('english')\n",
    "\n",
    "def eliminate_stopwords(text):\n",
    "    tokenized_text = word_tokenize(text)\n",
    "    without_stopwords = [word for word in tokenized_text if not word in stopwords_list]\n",
    "    return \" \".join(without_stopwords)\n",
    "\n",
    "sample_text = \"Software and cathedrals are much the same — first we build them, then we pray.\"\n",
    "eliminate_stopwords(sample_text)"
   ]
  },
  {
   "cell_type": "code",
   "execution_count": 14,
   "id": "032ba2df",
   "metadata": {
    "scrolled": true
   },
   "outputs": [
    {
     "data": {
      "text/plain": [
       "'one : demonstr alway crash . and two : the probabl of them crash goe up exponenti with the number of peopl watch .'"
      ]
     },
     "execution_count": 14,
     "metadata": {},
     "output_type": "execute_result"
    }
   ],
   "source": [
    "from nltk.stem import PorterStemmer\n",
    "from nltk import word_tokenize\n",
    "\n",
    "stemmer = PorterStemmer()\n",
    "\n",
    "def stem_words(text):\n",
    "    tokenized_text = word_tokenize(text)\n",
    "    stemmed_words = [stemmer.stem(word) for word in tokenized_text]\n",
    "    return \" \".join(stemmed_words)\n",
    "\n",
    "sample_text = \"One: Demonstrations always crash. And two: The probability of them crashing goes up exponentially with the number of people watching.\"\n",
    "stem_words(sample_text)"
   ]
  },
  {
   "cell_type": "code",
   "execution_count": 15,
   "id": "c42107d9",
   "metadata": {},
   "outputs": [
    {
     "data": {
      "text/plain": [
       "'Software undergo beta test shortly before it ’ s release . Beta be Latin for still doesn ’ t work .'"
      ]
     },
     "execution_count": 15,
     "metadata": {},
     "output_type": "execute_result"
    }
   ],
   "source": [
    "from nltk.stem import WordNetLemmatizer\n",
    "from nltk import word_tokenize\n",
    "\n",
    "lemmatizer = WordNetLemmatizer()\n",
    "\n",
    "def lemmatize_words(text):\n",
    "    tokenized_text = word_tokenize(text)\n",
    "    lemmatized_words = [lemmatizer.lemmatize(word, pos=\"v\") for word in tokenized_text]\n",
    "    return \" \".join(lemmatized_words)\n",
    "\n",
    "sample_text = \"Software undergoes beta testing shortly before it’s released. Beta is Latin for still doesn’t work.\"\n",
    "lemmatize_words(sample_text)"
   ]
  },
  {
   "cell_type": "code",
   "execution_count": 16,
   "id": "79fdfee4",
   "metadata": {},
   "outputs": [
    {
     "data": {
      "text/plain": [
       "'demonstration'"
      ]
     },
     "execution_count": 16,
     "metadata": {},
     "output_type": "execute_result"
    }
   ],
   "source": [
    "lemma = WordNetLemmatizer()\n",
    "lemma.lemmatize(\"demonstrations\")"
   ]
  }
 ],
 "metadata": {
  "kernelspec": {
   "display_name": "Python 3 (ipykernel)",
   "language": "python",
   "name": "python3"
  },
  "language_info": {
   "codemirror_mode": {
    "name": "ipython",
    "version": 3
   },
   "file_extension": ".py",
   "mimetype": "text/x-python",
   "name": "python",
   "nbconvert_exporter": "python",
   "pygments_lexer": "ipython3",
   "version": "3.9.7"
  }
 },
 "nbformat": 4,
 "nbformat_minor": 5
}
